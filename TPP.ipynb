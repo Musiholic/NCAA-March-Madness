{
 "cells": [
  {
   "cell_type": "code",
   "execution_count": 1,
   "metadata": {},
   "outputs": [],
   "source": [
    "import pandas as pd\n",
    "import os"
   ]
  },
  {
   "cell_type": "code",
   "execution_count": 2,
   "metadata": {},
   "outputs": [],
   "source": [
    "# Directory to data files\n",
    "directory = '/Users/ryannuttall/Documents/Data Analytics/Project 4/TPP'"
   ]
  },
  {
   "cell_type": "code",
   "execution_count": 3,
   "metadata": {},
   "outputs": [],
   "source": [
    "# List to store DataFrames from each CSV file\n",
    "all_dfs = []"
   ]
  },
  {
   "cell_type": "code",
   "execution_count": 4,
   "metadata": {},
   "outputs": [
    {
     "name": "stdout",
     "output_type": "stream",
     "text": [
      "Combined data saved to combined_data.csv\n"
     ]
    }
   ],
   "source": [
    "# Loop through each file in the directory\n",
    "for filename in os.listdir(directory):\n",
    "    if filename.endswith('.csv'):  # Assuming all files are CSV files\n",
    "        filepath = os.path.join(directory, filename)\n",
    "        # Extract the four-digit code from the filename\n",
    "        code = filename[:4]\n",
    "        # Read CSV file and add a column for the code\n",
    "        df = pd.read_csv(filepath)\n",
    "        df['Years'] = code  # Add a new column for the code\n",
    "        all_dfs.append(df)\n",
    "\n",
    "# Concatenate all DataFrames into one\n",
    "final_df = pd.concat(all_dfs, ignore_index=True)\n",
    "\n",
    "# Write combined DataFrame to CSV\n",
    "final_df.to_csv('combined_data.csv', index=False)\n",
    "\n",
    "print(\"Combined data saved to combined_data.csv\")"
   ]
  }
 ],
 "metadata": {
  "kernelspec": {
   "display_name": "my-python3-kernel",
   "language": "python",
   "name": "my-python3-kernel"
  },
  "language_info": {
   "codemirror_mode": {
    "name": "ipython",
    "version": 3
   },
   "file_extension": ".py",
   "mimetype": "text/x-python",
   "name": "python",
   "nbconvert_exporter": "python",
   "pygments_lexer": "ipython3",
   "version": "3.11.7"
  }
 },
 "nbformat": 4,
 "nbformat_minor": 2
}
