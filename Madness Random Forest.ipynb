{
 "cells": [
  {
   "cell_type": "code",
   "execution_count": 1,
   "metadata": {},
   "outputs": [],
   "source": [
    "# Import the modules\n",
    "from sklearn.model_selection import GridSearchCV\n",
    "from sklearn.feature_selection import SelectFromModel\n",
    "from sklearn.ensemble import RandomForestClassifier\n",
    "from sklearn.metrics import classification_report, confusion_matrix\n",
    "import pandas as pd\n",
    "from sklearn.model_selection import train_test_split\n",
    "from imblearn.over_sampling import ADASYN"
   ]
  },
  {
   "cell_type": "code",
   "execution_count": 2,
   "metadata": {},
   "outputs": [],
   "source": [
    "# Read the dataset\n",
    "super_data_df = pd.read_csv(\"Resources/madness_label_final_data.csv\")\n",
    "\n",
    "# Drop unnecessary columns\n",
    "X = super_data_df.drop(columns=[\"Years\", \"Madness\", \"Team\"])\n",
    "y = super_data_df[\"Madness\"]\n",
    "\n",
    "# Apply preprocessing to handle string columns\n",
    "X['PTS'] = X['PTS'].str.replace(',', '').astype(float)\n",
    "X['DRebs'] = X['DRebs'].str.replace(',', '').astype(float)\n",
    "X['REB'] = X['REB'].str.replace(',', '').astype(float)\n",
    "X['FGM_y'] = X['FGM_y'].str.replace(',', '').astype(float)\n",
    "X['FGA_y'] = X['FGA_y'].str.replace(',', '').astype(float)\n",
    "X['FTA'] = X['FTA'].str.replace(',', '').astype(float)\n",
    "\n",
    "# Split the data using train_test_split\n",
    "X_train, X_test, y_train, y_test = train_test_split(X, y, random_state=42)\n",
    "\n",
    "# Apply ADASYN to handle class imbalance\n",
    "adasyn = ADASYN(random_state=42)\n",
    "X_train_resampled, y_train_resampled = adasyn.fit_resample(X_train, y_train)\n",
    "\n",
    "# Initialize and train the Random Forest model\n",
    "rf_model = RandomForestClassifier(random_state=1)\n",
    "rf_model.fit(X_train_resampled, y_train_resampled)\n",
    "\n",
    "# Make predictions\n",
    "rf_prediction = rf_model.predict(X_test)"
   ]
  },
  {
   "cell_type": "code",
   "execution_count": 3,
   "metadata": {},
   "outputs": [
    {
     "data": {
      "text/html": [
       "<div>\n",
       "<style scoped>\n",
       "    .dataframe tbody tr th:only-of-type {\n",
       "        vertical-align: middle;\n",
       "    }\n",
       "\n",
       "    .dataframe tbody tr th {\n",
       "        vertical-align: top;\n",
       "    }\n",
       "\n",
       "    .dataframe thead th {\n",
       "        text-align: right;\n",
       "    }\n",
       "</style>\n",
       "<table border=\"1\" class=\"dataframe\">\n",
       "  <thead>\n",
       "    <tr style=\"text-align: right;\">\n",
       "      <th></th>\n",
       "      <th>0</th>\n",
       "      <th>1</th>\n",
       "    </tr>\n",
       "  </thead>\n",
       "  <tbody>\n",
       "    <tr>\n",
       "      <th>0</th>\n",
       "      <td>216</td>\n",
       "      <td>56</td>\n",
       "    </tr>\n",
       "    <tr>\n",
       "      <th>1</th>\n",
       "      <td>59</td>\n",
       "      <td>82</td>\n",
       "    </tr>\n",
       "  </tbody>\n",
       "</table>\n",
       "</div>"
      ],
      "text/plain": [
       "     0   1\n",
       "0  216  56\n",
       "1   59  82"
      ]
     },
     "execution_count": 3,
     "metadata": {},
     "output_type": "execute_result"
    }
   ],
   "source": [
    "cm_imbalanced = confusion_matrix(y_test, rf_prediction)\n",
    "cm_imbalanced_df = pd.DataFrame(cm_imbalanced)\n",
    "cm_imbalanced_df"
   ]
  },
  {
   "cell_type": "code",
   "execution_count": 4,
   "metadata": {},
   "outputs": [
    {
     "name": "stdout",
     "output_type": "stream",
     "text": [
      "              precision    recall  f1-score   support\n",
      "\n",
      "         0.0       0.79      0.79      0.79       272\n",
      "         1.0       0.59      0.58      0.59       141\n",
      "\n",
      "    accuracy                           0.72       413\n",
      "   macro avg       0.69      0.69      0.69       413\n",
      "weighted avg       0.72      0.72      0.72       413\n",
      "\n"
     ]
    }
   ],
   "source": [
    "# Print classification report 1\n",
    "print(classification_report(y_test, rf_prediction))"
   ]
  },
  {
   "cell_type": "markdown",
   "metadata": {},
   "source": [
    "## Optimization 1: ADASYN & SelectFromModel Threshold ##"
   ]
  },
  {
   "cell_type": "code",
   "execution_count": 9,
   "metadata": {},
   "outputs": [
    {
     "name": "stderr",
     "output_type": "stream",
     "text": [
      "/Users/jaxontige/anaconda3/envs/dev/lib/python3.10/site-packages/sklearn/model_selection/_validation.py:425: FitFailedWarning: \n",
      "405 fits failed out of a total of 1215.\n",
      "The score on these train-test partitions for these parameters will be set to nan.\n",
      "If these failures are not expected, you can try to debug them by setting error_score='raise'.\n",
      "\n",
      "Below are more details about the failures:\n",
      "--------------------------------------------------------------------------------\n",
      "202 fits failed with the following error:\n",
      "Traceback (most recent call last):\n",
      "  File \"/Users/jaxontige/anaconda3/envs/dev/lib/python3.10/site-packages/sklearn/model_selection/_validation.py\", line 732, in _fit_and_score\n",
      "    estimator.fit(X_train, y_train, **fit_params)\n",
      "  File \"/Users/jaxontige/anaconda3/envs/dev/lib/python3.10/site-packages/sklearn/base.py\", line 1144, in wrapper\n",
      "    estimator._validate_params()\n",
      "  File \"/Users/jaxontige/anaconda3/envs/dev/lib/python3.10/site-packages/sklearn/base.py\", line 637, in _validate_params\n",
      "    validate_parameter_constraints(\n",
      "  File \"/Users/jaxontige/anaconda3/envs/dev/lib/python3.10/site-packages/sklearn/utils/_param_validation.py\", line 95, in validate_parameter_constraints\n",
      "    raise InvalidParameterError(\n",
      "sklearn.utils._param_validation.InvalidParameterError: The 'max_features' parameter of RandomForestClassifier must be an int in the range [1, inf), a float in the range (0.0, 1.0], a str among {'sqrt', 'log2'} or None. Got 'auto' instead.\n",
      "\n",
      "--------------------------------------------------------------------------------\n",
      "203 fits failed with the following error:\n",
      "Traceback (most recent call last):\n",
      "  File \"/Users/jaxontige/anaconda3/envs/dev/lib/python3.10/site-packages/sklearn/model_selection/_validation.py\", line 732, in _fit_and_score\n",
      "    estimator.fit(X_train, y_train, **fit_params)\n",
      "  File \"/Users/jaxontige/anaconda3/envs/dev/lib/python3.10/site-packages/sklearn/base.py\", line 1144, in wrapper\n",
      "    estimator._validate_params()\n",
      "  File \"/Users/jaxontige/anaconda3/envs/dev/lib/python3.10/site-packages/sklearn/base.py\", line 637, in _validate_params\n",
      "    validate_parameter_constraints(\n",
      "  File \"/Users/jaxontige/anaconda3/envs/dev/lib/python3.10/site-packages/sklearn/utils/_param_validation.py\", line 95, in validate_parameter_constraints\n",
      "    raise InvalidParameterError(\n",
      "sklearn.utils._param_validation.InvalidParameterError: The 'max_features' parameter of RandomForestClassifier must be an int in the range [1, inf), a float in the range (0.0, 1.0], a str among {'log2', 'sqrt'} or None. Got 'auto' instead.\n",
      "\n",
      "  warnings.warn(some_fits_failed_message, FitFailedWarning)\n",
      "/Users/jaxontige/anaconda3/envs/dev/lib/python3.10/site-packages/sklearn/model_selection/_search.py:976: UserWarning: One or more of the test scores are non-finite: [       nan        nan        nan        nan        nan        nan\n",
      "        nan        nan        nan        nan        nan        nan\n",
      "        nan        nan        nan        nan        nan        nan\n",
      "        nan        nan        nan        nan        nan        nan\n",
      "        nan        nan        nan 0.82329247 0.83145591 0.82981901\n",
      " 0.8221798  0.82910668 0.82629195 0.80663732 0.80955567 0.80561053\n",
      " 0.81468548 0.81984983 0.81898193 0.81722201 0.82053074 0.81856856\n",
      " 0.80021569 0.79850545 0.80104886 0.78472427 0.79490482 0.79441374\n",
      " 0.78472427 0.79490482 0.79441374 0.78022143 0.78629089 0.78839899\n",
      " 0.82329247 0.83145591 0.82981901 0.8221798  0.82910668 0.82629195\n",
      " 0.80663732 0.80955567 0.80561053 0.81468548 0.81984983 0.81898193\n",
      " 0.81722201 0.82053074 0.81856856 0.80021569 0.79850545 0.80104886\n",
      " 0.78472427 0.79490482 0.79441374 0.78472427 0.79490482 0.79441374\n",
      " 0.78022143 0.78629089 0.78839899        nan        nan        nan\n",
      "        nan        nan        nan        nan        nan        nan\n",
      "        nan        nan        nan        nan        nan        nan\n",
      "        nan        nan        nan        nan        nan        nan\n",
      "        nan        nan        nan        nan        nan        nan\n",
      " 0.81015732 0.81628609 0.82077055 0.81132784 0.81676445 0.81498154\n",
      " 0.7925634  0.79441934 0.80019646 0.80777557 0.8130827  0.81447699\n",
      " 0.80666348 0.81504954 0.81485888 0.78706861 0.78734213 0.79256869\n",
      " 0.78383074 0.78202558 0.78506522 0.78383074 0.78202558 0.78506522\n",
      " 0.7739906  0.77692131 0.78093269 0.81015732 0.81628609 0.82077055\n",
      " 0.81132784 0.81676445 0.81498154 0.7925634  0.79441934 0.80019646\n",
      " 0.80777557 0.8130827  0.81447699 0.80666348 0.81504954 0.81485888\n",
      " 0.78706861 0.78734213 0.79256869 0.78383074 0.78202558 0.78506522\n",
      " 0.78383074 0.78202558 0.78506522 0.7739906  0.77692131 0.78093269\n",
      "        nan        nan        nan        nan        nan        nan\n",
      "        nan        nan        nan        nan        nan        nan\n",
      "        nan        nan        nan        nan        nan        nan\n",
      "        nan        nan        nan        nan        nan        nan\n",
      "        nan        nan        nan 0.8256593  0.83088003 0.83156365\n",
      " 0.82155857 0.82910668 0.82575685 0.80626131 0.80853146 0.80565122\n",
      " 0.81468548 0.81984983 0.81898193 0.81793178 0.82053074 0.81957919\n",
      " 0.80021569 0.79850545 0.80104886 0.78472427 0.79490482 0.79441374\n",
      " 0.78472427 0.79490482 0.79441374 0.78022143 0.78629089 0.78839899\n",
      " 0.8256593  0.83088003 0.83156365 0.82155857 0.82910668 0.82575685\n",
      " 0.80626131 0.80853146 0.80565122 0.81468548 0.81984983 0.81898193\n",
      " 0.81793178 0.82053074 0.81957919 0.80021569 0.79850545 0.80104886\n",
      " 0.78472427 0.79490482 0.79441374 0.78472427 0.79490482 0.79441374\n",
      " 0.78022143 0.78629089 0.78839899]\n",
      "  warnings.warn(\n"
     ]
    },
    {
     "name": "stdout",
     "output_type": "stream",
     "text": [
      "              precision    recall  f1-score   support\n",
      "\n",
      "         0.0       0.79      0.78      0.78       272\n",
      "         1.0       0.58      0.60      0.59       141\n",
      "\n",
      "    accuracy                           0.71       413\n",
      "   macro avg       0.68      0.69      0.68       413\n",
      "weighted avg       0.72      0.71      0.72       413\n",
      "\n"
     ]
    }
   ],
   "source": [
    "# Read the dataset\n",
    "super_data_df = pd.read_csv(\"Resources/madness_label_final_data.csv\")\n",
    "\n",
    "# Drop unnecessary columns\n",
    "X = super_data_df.drop(columns=[\"Years\", \"Madness\", \"Team\"])\n",
    "y = super_data_df[\"Madness\"]\n",
    "\n",
    "# Apply preprocessing to handle string columns\n",
    "X['PTS'] = X['PTS'].str.replace(',', '').astype(float)\n",
    "X['DRebs'] = X['DRebs'].str.replace(',', '').astype(float)\n",
    "X['REB'] = X['REB'].str.replace(',', '').astype(float)\n",
    "X['FGM_y'] = X['FGM_y'].str.replace(',', '').astype(float)\n",
    "X['FGA_y'] = X['FGA_y'].str.replace(',', '').astype(float)\n",
    "X['FTA'] = X['FTA'].str.replace(',', '').astype(float)\n",
    "\n",
    "# Split the data using train_test_split\n",
    "X_train, X_test, y_train, y_test = train_test_split(X, y, random_state=42)\n",
    "\n",
    "# Apply ADASYN to handle class imbalance\n",
    "adasyn = ADASYN(random_state=42)\n",
    "X_train_resampled, y_train_resampled = adasyn.fit_resample(X_train, y_train)\n",
    "\n",
    "# Initialize the Random Forest model\n",
    "rf_model = RandomForestClassifier(random_state=1)\n",
    "\n",
    "# Define hyperparameters for grid search\n",
    "param_grid = {\n",
    "    'n_estimators': [100, 200, 300],\n",
    "    'max_depth': [None, 10, 20],\n",
    "    'min_samples_split': [2, 5, 10],\n",
    "    'min_samples_leaf': [1, 2, 4],\n",
    "    'max_features': ['auto', 'sqrt', 'log2']\n",
    "}\n",
    "\n",
    "# Perform grid search with cross-validation\n",
    "grid_search = GridSearchCV(estimator=rf_model, param_grid=param_grid, cv=5, scoring='f1', n_jobs=-1)\n",
    "grid_search.fit(X_train_resampled, y_train_resampled)\n",
    "\n",
    "# Get the best model from grid search\n",
    "best_rf_model = grid_search.best_estimator_\n",
    "\n",
    "# Fit the best model on the resampled training data\n",
    "best_rf_model.fit(X_train_resampled, y_train_resampled)\n",
    "\n",
    "# Get feature importances\n",
    "feature_importances = best_rf_model.feature_importances_\n",
    "\n",
    "# Select features based on importance\n",
    "sfm = SelectFromModel(best_rf_model, threshold=0.02)  # Adjust threshold as needed\n",
    "X_train_selected = sfm.fit_transform(X_train_resampled, y_train_resampled)\n",
    "X_test_selected = sfm.transform(X_test)\n",
    "\n",
    "# Train the model with selected features\n",
    "best_rf_model.fit(X_train_selected, y_train_resampled)\n",
    "\n",
    "# Make predictions\n",
    "rf_prediction = best_rf_model.predict(X_test_selected)\n",
    "\n",
    "# Evaluate the model\n",
    "print(classification_report(y_test, rf_prediction))"
   ]
  },
  {
   "cell_type": "code",
   "execution_count": 12,
   "metadata": {},
   "outputs": [
    {
     "data": {
      "text/html": [
       "<div>\n",
       "<style scoped>\n",
       "    .dataframe tbody tr th:only-of-type {\n",
       "        vertical-align: middle;\n",
       "    }\n",
       "\n",
       "    .dataframe tbody tr th {\n",
       "        vertical-align: top;\n",
       "    }\n",
       "\n",
       "    .dataframe thead th {\n",
       "        text-align: right;\n",
       "    }\n",
       "</style>\n",
       "<table border=\"1\" class=\"dataframe\">\n",
       "  <thead>\n",
       "    <tr style=\"text-align: right;\">\n",
       "      <th></th>\n",
       "      <th>0</th>\n",
       "      <th>1</th>\n",
       "    </tr>\n",
       "  </thead>\n",
       "  <tbody>\n",
       "    <tr>\n",
       "      <th>0</th>\n",
       "      <td>211</td>\n",
       "      <td>61</td>\n",
       "    </tr>\n",
       "    <tr>\n",
       "      <th>1</th>\n",
       "      <td>57</td>\n",
       "      <td>84</td>\n",
       "    </tr>\n",
       "  </tbody>\n",
       "</table>\n",
       "</div>"
      ],
      "text/plain": [
       "     0   1\n",
       "0  211  61\n",
       "1   57  84"
      ]
     },
     "execution_count": 12,
     "metadata": {},
     "output_type": "execute_result"
    }
   ],
   "source": [
    "cm_imbalanced = confusion_matrix(y_test, rf_prediction)\n",
    "cm_imbalanced_df = pd.DataFrame(cm_imbalanced)\n",
    "cm_imbalanced_df"
   ]
  },
  {
   "cell_type": "code",
   "execution_count": 13,
   "metadata": {},
   "outputs": [
    {
     "name": "stdout",
     "output_type": "stream",
     "text": [
      "              precision    recall  f1-score   support\n",
      "\n",
      "         0.0       0.79      0.78      0.78       272\n",
      "         1.0       0.58      0.60      0.59       141\n",
      "\n",
      "    accuracy                           0.71       413\n",
      "   macro avg       0.68      0.69      0.68       413\n",
      "weighted avg       0.72      0.71      0.72       413\n",
      "\n"
     ]
    }
   ],
   "source": [
    "# Print classification report 2 \n",
    "#(After Implementing SelectFromModel Threshold Optimization)\n",
    "print(classification_report(y_test, rf_prediction))"
   ]
  },
  {
   "cell_type": "markdown",
   "metadata": {},
   "source": []
  },
  {
   "cell_type": "code",
   "execution_count": 14,
   "metadata": {},
   "outputs": [],
   "source": [
    "# Read the dataset\n",
    "super_data_df = pd.read_csv(\"Resources/madness_label_final_data.csv\")\n",
    "\n",
    "# Drop unnecessary columns\n",
    "X = super_data_df.drop(columns=[\"Years\", \"Madness\", \"Team\"])\n",
    "y = super_data_df[\"Madness\"]\n",
    "\n",
    "# Apply preprocessing to handle string columns\n",
    "X['PTS'] = X['PTS'].str.replace(',', '').astype(float)\n",
    "X['DRebs'] = X['DRebs'].str.replace(',', '').astype(float)\n",
    "X['REB'] = X['REB'].str.replace(',', '').astype(float)\n",
    "X['FGM_y'] = X['FGM_y'].str.replace(',', '').astype(float)\n",
    "X['FGA_y'] = X['FGA_y'].str.replace(',', '').astype(float)\n",
    "X['FTA'] = X['FTA'].str.replace(',', '').astype(float)\n",
    "\n",
    "# Split the data using train_test_split\n",
    "X_train, X_test, y_train, y_test = train_test_split(X, y, random_state=42)\n",
    "\n",
    "# Apply ADASYN to handle class imbalance\n",
    "adasyn = ADASYN(random_state=42)\n",
    "X_train_resampled, y_train_resampled = adasyn.fit_resample(X_train, y_train)\n",
    "\n",
    "# Initialize and train the Random Forest model\n",
    "rf_model = RandomForestClassifier(random_state=1)\n",
    "rf_model.fit(X_train_resampled, y_train_resampled)\n",
    "\n",
    "# Initialize and train the logistic regression model\n",
    "rf_model = RandomForestClassifier(class_weight={0: 1.1, 1: 0.9}, random_state=1)\n",
    "rf_model.fit(X_train_resampled, y_train_resampled)\n",
    "\n",
    "# Make predictions\n",
    "rf_prediction = rf_model.predict(X_test)"
   ]
  },
  {
   "cell_type": "code",
   "execution_count": 15,
   "metadata": {},
   "outputs": [
    {
     "data": {
      "text/html": [
       "<div>\n",
       "<style scoped>\n",
       "    .dataframe tbody tr th:only-of-type {\n",
       "        vertical-align: middle;\n",
       "    }\n",
       "\n",
       "    .dataframe tbody tr th {\n",
       "        vertical-align: top;\n",
       "    }\n",
       "\n",
       "    .dataframe thead th {\n",
       "        text-align: right;\n",
       "    }\n",
       "</style>\n",
       "<table border=\"1\" class=\"dataframe\">\n",
       "  <thead>\n",
       "    <tr style=\"text-align: right;\">\n",
       "      <th></th>\n",
       "      <th>0</th>\n",
       "      <th>1</th>\n",
       "    </tr>\n",
       "  </thead>\n",
       "  <tbody>\n",
       "    <tr>\n",
       "      <th>0</th>\n",
       "      <td>216</td>\n",
       "      <td>56</td>\n",
       "    </tr>\n",
       "    <tr>\n",
       "      <th>1</th>\n",
       "      <td>63</td>\n",
       "      <td>78</td>\n",
       "    </tr>\n",
       "  </tbody>\n",
       "</table>\n",
       "</div>"
      ],
      "text/plain": [
       "     0   1\n",
       "0  216  56\n",
       "1   63  78"
      ]
     },
     "execution_count": 15,
     "metadata": {},
     "output_type": "execute_result"
    }
   ],
   "source": [
    "cm_imbalanced = confusion_matrix(y_test, rf_prediction)\n",
    "cm_imbalanced_df = pd.DataFrame(cm_imbalanced)\n",
    "cm_imbalanced_df"
   ]
  },
  {
   "cell_type": "code",
   "execution_count": 16,
   "metadata": {},
   "outputs": [
    {
     "name": "stdout",
     "output_type": "stream",
     "text": [
      "              precision    recall  f1-score   support\n",
      "\n",
      "         0.0       0.77      0.79      0.78       272\n",
      "         1.0       0.58      0.55      0.57       141\n",
      "\n",
      "    accuracy                           0.71       413\n",
      "   macro avg       0.68      0.67      0.68       413\n",
      "weighted avg       0.71      0.71      0.71       413\n",
      "\n"
     ]
    }
   ],
   "source": [
    "# Print classification report 3\n",
    "# (After Implementing Class Weight Adjustments)\n",
    "print(classification_report(y_test, rf_prediction))"
   ]
  }
 ],
 "metadata": {
  "kernelspec": {
   "display_name": "dev",
   "language": "python",
   "name": "python3"
  },
  "language_info": {
   "codemirror_mode": {
    "name": "ipython",
    "version": 3
   },
   "file_extension": ".py",
   "mimetype": "text/x-python",
   "name": "python",
   "nbconvert_exporter": "python",
   "pygments_lexer": "ipython3",
   "version": "3.10.13"
  }
 },
 "nbformat": 4,
 "nbformat_minor": 2
}
